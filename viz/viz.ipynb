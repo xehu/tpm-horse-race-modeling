{
 "cells": [
  {
   "cell_type": "code",
   "execution_count": 1,
   "metadata": {},
   "outputs": [],
   "source": [
    "import pandas as pd\n",
    "import ast\n",
    "import numpy as np\n",
    "import scipy.stats as stats \n",
    "import seaborn as sns\n",
    "import matplotlib.pyplot as plt\n",
    "import os\n",
    "from statsmodels.stats.multitest import multipletests"
   ]
  },
  {
   "cell_type": "markdown",
   "metadata": {},
   "source": [
    "# Read the JSON blob formats"
   ]
  },
  {
   "cell_type": "code",
   "execution_count": 2,
   "metadata": {},
   "outputs": [
    {
     "data": {
      "text/plain": [
       "'/Users/xehu/Desktop/Team Process Mapping/tpm-horse-race-modeling'"
      ]
     },
     "execution_count": 2,
     "metadata": {},
     "output_type": "execute_result"
    }
   ],
   "source": [
    "os.chdir('../')\n",
    "os.getcwd()"
   ]
  },
  {
   "cell_type": "code",
   "execution_count": null,
   "metadata": {},
   "outputs": [],
   "source": [
    "df_ax = pd.DataFrame([ast.literal_eval(x.strip()) for x in open(\"./model_eval_cache/\", \"r\").readlines()])\n",
    "\n",
    "sns.pointplot(x=\"sample_size\", y=\"q2\", hue=\"model_label\", data=df_ax, dodge=0.2)\n",
    "plt.axhline(0, color=\"black\", linestyle=\"--\")\n",
    "plt.xlabel(\"Sample size\")\n",
    "plt.ylabel(\"$Q^2$\")\n",
    "plt.title(\"$Q^2$ with HPO\")"
   ]
  },
  {
   "cell_type": "markdown",
   "metadata": {},
   "source": [
    "## TODO -- modify code below!"
   ]
  },
  {
   "cell_type": "code",
   "execution_count": null,
   "metadata": {},
   "outputs": [],
   "source": [
    "def display_feature_coefficients(feature_coef_df):\n",
    "\t# Initialize a list to store DataFrames for each feature\n",
    "\tdfs = []\n",
    "\n",
    "\t# Iterate through the rows of the input DataFrame\n",
    "\tfor feature_name, coefficients in feature_coef_df.iterrows():\n",
    "\t\t# Calculate the confidence interval without NaN values\n",
    "\t\tnon_nan_coefficients = coefficients[~np.isnan(coefficients)]\n",
    "\t\tif len(non_nan_coefficients) == 0:\n",
    "\t\t\t# Handle the case where there are no valid coefficients\n",
    "\t\t\tcontinue\n",
    "\n",
    "\t\tmean_coef = non_nan_coefficients.mean()\n",
    "\n",
    "\t\t# Check if all coefficients in the row are the same\n",
    "\t\tif len(coefficients.unique()) == 1:\n",
    "\t\t\t# If all coefficients are the same, set the lower and upper CI to the mean\n",
    "\t\t\tconfidence_interval = (mean_coef, mean_coef)\n",
    "\t\telse:\n",
    "\t\t\tstd_error = non_nan_coefficients.sem()\n",
    "\t\t\tconfidence_interval = stats.t.interval(0.95, len(non_nan_coefficients) - 1, loc=mean_coef, scale=std_error)\n",
    "\n",
    "\t\t# Create a DataFrame for the summary data\n",
    "\t\ttemp_df = pd.DataFrame({\n",
    "\t\t\t\"Feature\": [feature_name],\n",
    "\t\t\t\"Mean\": [mean_coef],\n",
    "\t\t\t\"Lower_CI\": [confidence_interval[0]],\n",
    "\t\t\t\"Upper_CI\": [confidence_interval[1]]\n",
    "\t\t})\n",
    "\n",
    "\t\t# Append the temporary DataFrame to the list\n",
    "\t\tdfs.append(temp_df)\n",
    "\n",
    "\t# Concatenate all the DataFrames in the list into the final summary DataFrame\n",
    "\tsummary_df = pd.concat(dfs, ignore_index=True)\n",
    "\n",
    "\treturn summary_df"
   ]
  }
 ],
 "metadata": {
  "kernelspec": {
   "display_name": "tpm_horserace",
   "language": "python",
   "name": "python3"
  },
  "language_info": {
   "codemirror_mode": {
    "name": "ipython",
    "version": 3
   },
   "file_extension": ".py",
   "mimetype": "text/x-python",
   "name": "python",
   "nbconvert_exporter": "python",
   "pygments_lexer": "ipython3",
   "version": "3.11.7"
  }
 },
 "nbformat": 4,
 "nbformat_minor": 2
}
